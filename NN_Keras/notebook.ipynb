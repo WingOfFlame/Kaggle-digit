{
  "cells": [
    {
      "metadata": {
        "_uuid": "6e0128338c8f88eeaccbe15a76c24411d20d08b0",
        "_cell_guid": "84d4608d-4cc3-fcbb-57fb-61f07ad7d020"
      },
      "cell_type": "markdown",
      "source": "*Poonam Ligade*\n\n*1st Feb 2017*\n\n\n----------\n\n\nThis notebook is like note to self.\n\nI am trying to understand various components of Artificial Neural Networks aka Deep Learning.\n\nHope it might be useful for someone else here.\n\nI am designing neural net on MNIST handwritten digits images to identify their correct label i.e number in image.\n\nYou must have guessed its an image recognition task.\n\nMNIST is called Hello world of Deep learning.\n\nLets start!!\n\nThis notebook is inspired from [Jeremy's][1] [Deep Learning][2] mooc and [Deep learning with python][3] book by Keras author [François Chollet][4] .\n\n\n  [1]: https://www.linkedin.com/in/howardjeremy/\n  [2]: http://course.fast.ai/\n  [3]: https://www.manning.com/books/deep-learning-with-python\n  [4]: https://research.google.com/pubs/105096.html"
    },
    {
      "metadata": {
        "_uuid": "9e9d66941461346e7a50a6f6fe58df7a529d555e",
        "_cell_guid": "654456b6-e648-0379-0d66-1cc97af6d00d"
      },
      "cell_type": "markdown",
      "source": "**Import all required libraries**\n==============================="
    },
    {
      "metadata": {
        "_uuid": "9da63391aae9542caa346ba148d8abd03e1368ff",
        "_cell_guid": "e5b02688-c589-5a89-e11c-837c6a99eb6e",
        "trusted": false,
        "collapsed": true
      },
      "cell_type": "code",
      "source": "    # This Python 3 environment comes with many helpful analytics libraries installed\n# It is defined by the kaggle/python docker image: https://github.com/kaggle/docker-python\n# For example, here's several helpful packages to load in \n\nimport numpy as np # linear algebra\nimport pandas as pd # data processing, CSV file I/O (e.g. pd.read_csv)\n\nimport matplotlib.pyplot as plt\n%matplotlib inline\n\nfrom keras.models import Sequential\nfrom keras.layers import Dense , Dropout , Lambda, Flatten\nfrom keras.optimizers import Adam ,RMSprop\nfrom sklearn.model_selection import train_test_split\n\n# Input data files are available in the \"../input/\" directory.\n# For example, running this (by clicking run or pressing Shift+Enter) will list the files in the input directory\n\nfrom subprocess import check_output\nprint(check_output([\"ls\", \"../input\"]).decode(\"utf8\"))\n\n# Any results you write to the current directory are saved as output.",
      "execution_count": null,
      "outputs": []
    },
    {
      "metadata": {
        "_uuid": "648cffd5f289877cdb0ce9d8845f2d5c9a962dbb",
        "_cell_guid": "22a7fd70-ab61-432d-24cb-93e558414495"
      },
      "cell_type": "markdown",
      "source": "**Load Train and Test data**\n============================"
    },
    {
      "metadata": {
        "_uuid": "e822f87ac9f8da24a84210c9ed9f9474c1ca5bb0",
        "_cell_guid": "05226b08-226a-1a00-044d-a0e6b2101388",
        "trusted": false,
        "collapsed": true
      },
      "cell_type": "code",
      "source": "# create the training & test sets, skipping the header row with [1:]\ntrain = pd.read_csv(\"../input/train.csv\")\nprint(train.shape)\ntrain.head()",
      "execution_count": null,
      "outputs": []
    },
    {
      "metadata": {
        "_uuid": "2c1365494f03701b618d0734a6cf230f382b790e",
        "_cell_guid": "2ec570a6-b41a-2139-5e0e-4941c4f0a9d0",
        "trusted": false,
        "collapsed": true
      },
      "cell_type": "code",
      "source": "test= pd.read_csv(\"../input/test.csv\")\nprint(test.shape)\ntest.head()",
      "execution_count": null,
      "outputs": []
    },
    {
      "metadata": {
        "_uuid": "569f9a6be4429b5be688c2bb3c5cadd93aa32735",
        "_cell_guid": "1ae10fe0-dde9-7659-f53d-1a1bd625cfb1",
        "trusted": false,
        "collapsed": true
      },
      "cell_type": "code",
      "source": "X_train = (train.ix[:,1:].values).astype('float32') # all pixel values\ny_train = train.ix[:,0].values.astype('int32') # only labels i.e targets digits\nX_test = test.values.astype('float32')",
      "execution_count": null,
      "outputs": []
    },
    {
      "metadata": {
        "_uuid": "2a6c4952a00160457589ebe521772d541c38f549",
        "_cell_guid": "250b1126-ce1d-6d3f-9736-2504f7a1e098",
        "trusted": false,
        "collapsed": true
      },
      "cell_type": "code",
      "source": "X_train",
      "execution_count": null,
      "outputs": []
    },
    {
      "metadata": {
        "_uuid": "d302d6b7adc081a7651c90a19839ec1ee4935b2a",
        "_cell_guid": "e0f15f8a-ac08-540a-58db-dab989cc687c",
        "trusted": false,
        "collapsed": true
      },
      "cell_type": "code",
      "source": "y_train",
      "execution_count": null,
      "outputs": []
    },
    {
      "metadata": {
        "_uuid": "800e33e0d642da88b149a539cb7df7b932326071",
        "_cell_guid": "c2c91588-5547-353a-7f92-39600027438e"
      },
      "cell_type": "markdown",
      "source": "The output variable is an integer from 0 to 9. This is a **multiclass** classification problem."
    },
    {
      "metadata": {
        "_uuid": "c9c0efebb68b0b9f8266efa878a8e4ba74a653f8",
        "_cell_guid": "60957d82-c76f-4822-28ff-def7011a34fa"
      },
      "cell_type": "markdown",
      "source": "Lets look at 3 images from data set with their labels."
    },
    {
      "metadata": {
        "_uuid": "a44ac7c70f332a2a04f39a8e0a4d8169fab3972f",
        "_cell_guid": "1541678d-a08b-d2b2-1e1e-eabf882baaec",
        "trusted": false,
        "collapsed": true
      },
      "cell_type": "code",
      "source": "#Convert train datset to (num_images, img_rows, img_cols) format \nX_train = X_train.reshape(X_train.shape[0], 28, 28)\n\nfor i in range(6, 9):\n    plt.subplot(330 + (i+1))\n    plt.imshow(X_train[i], cmap=plt.get_cmap('gray'))\n    plt.title(y_train[i]);",
      "execution_count": null,
      "outputs": []
    },
    {
      "metadata": {
        "_uuid": "31d69346ea7695927b4d91fee7eec97b048a7d00",
        "_cell_guid": "6be2f3e9-42eb-85b6-9162-c25e4d706155",
        "trusted": false,
        "collapsed": true
      },
      "cell_type": "code",
      "source": "#expand 1 more dimention as 1 for colour channel gray\nX_train = X_train.reshape(X_train.shape[0], 28, 28,1)\nX_train.shape",
      "execution_count": null,
      "outputs": []
    },
    {
      "metadata": {
        "_uuid": "39afe7ecca09fb4f0f12b6435295e79709169166",
        "_cell_guid": "6949468c-fd27-19c5-15c7-0b357a961003",
        "trusted": false,
        "collapsed": true
      },
      "cell_type": "code",
      "source": "X_test = X_test.reshape(X_test.shape[0], 28, 28,1)\nX_test.shape",
      "execution_count": null,
      "outputs": []
    },
    {
      "metadata": {
        "_uuid": "6ec7298973ae1a94f40398ac81cc953220a516fa",
        "_cell_guid": "1232c385-3cb2-56fd-4d1d-f027df7bc78e"
      },
      "cell_type": "markdown",
      "source": "**Preprocessing the digit images**\n=================================="
    },
    {
      "metadata": {
        "_uuid": "ba642f3eb1a0cc1c00c5079b1ca59f4279ef4e10",
        "_cell_guid": "6fcc1f9e-1586-e393-49ba-50c73564e0ed"
      },
      "cell_type": "markdown",
      "source": "**Feature Standardization**\n-------------------------------------\n\nIt is important preprocessing step.\nIt is used to centre the data around zero mean and unit variance."
    },
    {
      "metadata": {
        "_uuid": "bacd17cdeeae72192bf871251631944a3774d8c4",
        "_cell_guid": "a3f837ef-0373-8d91-46e6-30992cf73166",
        "trusted": false,
        "collapsed": true
      },
      "cell_type": "code",
      "source": "mean_px = X_train.mean().astype(np.float32)\nstd_px = X_train.std().astype(np.float32)\n\ndef standardize(x): \n    return (x-mean_px)/std_px",
      "execution_count": null,
      "outputs": []
    },
    {
      "metadata": {
        "_uuid": "341b18646e6d8c31436ec8d97bfd97e5e303c7cd",
        "_cell_guid": "725c55fc-9742-a63c-9822-c67ab0c773ee"
      },
      "cell_type": "markdown",
      "source": "*One Hot encoding of labels.*\n-----------------------------\n\nA one-hot vector is a vector which is 0 in most dimensions, and 1 in a single dimension. In this case, the nth digit will be represented as a vector which is 1 in the nth dimension. \n\nFor example, 3 would be [0,0,0,1,0,0,0,0,0,0]."
    },
    {
      "metadata": {
        "_uuid": "123870dfa9de661a6f4bb36ea523f5b8e138411f",
        "_cell_guid": "c879f076-b3dd-6cb1-e2d9-2f404f2ed132",
        "trusted": false,
        "collapsed": true
      },
      "cell_type": "code",
      "source": "from keras.utils.np_utils import to_categorical\ny_train= to_categorical(y_train)\nnum_classes = y_train.shape[1]\nnum_classes",
      "execution_count": null,
      "outputs": []
    },
    {
      "metadata": {
        "_uuid": "ad84da80283bbaa609bf03b844819bf66c649ee3",
        "_cell_guid": "4d76fb04-57fc-e802-6d91-06ece552686b"
      },
      "cell_type": "markdown",
      "source": "Lets plot 10th label."
    },
    {
      "metadata": {
        "_uuid": "ed3f2bf9464a9932e3e1354d2027c8b40513a113",
        "_cell_guid": "1c927e75-08d2-d539-54f3-71ab0308fec1",
        "trusted": false,
        "collapsed": true
      },
      "cell_type": "code",
      "source": "plt.title(y_train[9])\nplt.plot(y_train[9])\nplt.xticks(range(10));",
      "execution_count": null,
      "outputs": []
    },
    {
      "metadata": {
        "_uuid": "794e6222012110c271878f41097489abdaa8a45d",
        "_cell_guid": "4e130661-9f09-d9a9-d49b-7274ef13927f"
      },
      "cell_type": "markdown",
      "source": "Oh its 3 !"
    },
    {
      "metadata": {
        "_uuid": "8f151d592c495f4d77ea32334acc4d4704525e7e",
        "_cell_guid": "6a89dcdd-7b68-6ed1-2c39-b3a1edb3e7be"
      },
      "cell_type": "markdown",
      "source": "**Designing Neural Network Architecture**\n========================================="
    },
    {
      "metadata": {
        "_uuid": "049cace0b9229ba59ceddf2b042571242b61275a",
        "_cell_guid": "39107235-d87a-af4d-44fb-80c9c3aa0212",
        "trusted": false,
        "collapsed": true
      },
      "cell_type": "code",
      "source": "# fix random seed for reproducibility\nseed = 43\nnp.random.seed(seed)",
      "execution_count": null,
      "outputs": []
    },
    {
      "metadata": {
        "_uuid": "3273f9838647342d4960478d1d4f6affeb4bad9a",
        "_cell_guid": "a8b65f54-398b-267f-e31a-313210450f54"
      },
      "cell_type": "markdown",
      "source": "*Linear Model*\n--------------"
    },
    {
      "metadata": {
        "_uuid": "d6097db3bd23fdb52864c68dc22160dceb63a4cb",
        "_cell_guid": "5dbe450c-845f-aaa2-dbde-21414a91d8c1",
        "trusted": false,
        "collapsed": true
      },
      "cell_type": "code",
      "source": "from keras.models import  Sequential\nfrom keras.layers.core import  Lambda , Dense, Flatten, Dropout\nfrom keras.callbacks import EarlyStopping\nfrom keras.layers import BatchNormalization, Convolution2D , MaxPooling2D",
      "execution_count": null,
      "outputs": []
    },
    {
      "metadata": {
        "_uuid": "2ae0373ed5e23231d82699971d4d3baee39642ff",
        "_cell_guid": "5c3f674f-f3fc-9614-f2d4-056c3e3ad633"
      },
      "cell_type": "markdown",
      "source": "Lets create a simple model from Keras Sequential layer.\n\n1. Lambda layer performs simple arithmetic operations like sum, average, exponentiation etc.\n\n In 1st layer of the model we have to define input dimensions of our data in (rows,columns,colour channel) format.\n (In theano colour channel comes first)\n\n\n2. Flatten will transform input into 1D array.\n\n\n3. Dense is fully connected layer that means all neurons in previous layers will be connected to all neurons in fully connected layer.\n In the last layer we have to specify output dimensions/classes of the model.\n Here it's 10, since we have to output 10 different digit labels."
    },
    {
      "metadata": {
        "_uuid": "5d07cc6cfe0e9f67a57dfc0373fab8e820409fd1",
        "_cell_guid": "a2c27783-3cfa-e907-4749-1e340a513f26",
        "trusted": false,
        "collapsed": true
      },
      "cell_type": "code",
      "source": "model= Sequential()\nmodel.add(Lambda(standardize,input_shape=(28,28,1)))\nmodel.add(Flatten())\nmodel.add(Dense(10, activation='softmax'))\nprint(\"input shape \",model.input_shape)\nprint(\"output shape \",model.output_shape)",
      "execution_count": null,
      "outputs": []
    },
    {
      "metadata": {
        "_uuid": "1f00838340c73267bf5e0fec63cc0f474a0424e5",
        "_cell_guid": "260645fb-61b7-68e9-6826-047b97436c14"
      },
      "cell_type": "markdown",
      "source": "***Compile network***\n-------------------\n\nBefore making network ready for training we have to make sure to add below things:\n\n 1.  A loss function: to measure how good the network is\n    \n 2.  An optimizer: to update network as it sees more data and reduce loss\n    value\n    \n 3.  Metrics: to monitor performance of network"
    },
    {
      "metadata": {
        "_uuid": "19e3ec7e5237fdb34e8edde37b93395228d2fa22",
        "_cell_guid": "9d1d1af9-b2a8-e3b9-6eaf-100d08fe83aa",
        "trusted": false,
        "collapsed": true
      },
      "cell_type": "code",
      "source": "from keras.optimizers import RMSprop\nmodel.compile(optimizer=RMSprop(lr=0.001),\n loss='categorical_crossentropy',\n metrics=['accuracy'])",
      "execution_count": null,
      "outputs": []
    },
    {
      "metadata": {
        "_uuid": "40baa2e03bc5632d1fe5c6e3a8be26a7291b2c20",
        "_cell_guid": "db3b4be6-4f72-c6cc-65cd-b45978db2462",
        "trusted": false,
        "collapsed": true
      },
      "cell_type": "code",
      "source": "from keras.preprocessing import image\ngen = image.ImageDataGenerator()",
      "execution_count": null,
      "outputs": []
    },
    {
      "metadata": {
        "_uuid": "056f7c7ae2812c0f113eff92e9e2a5cfac3232fc",
        "_cell_guid": "9071d720-da50-8530-e9f3-1f0c37aac7ff",
        "trusted": false,
        "collapsed": true
      },
      "cell_type": "code",
      "source": "from sklearn.model_selection import train_test_split\nX_train, X_val, y_train, y_val = train_test_split(X_train, y_train, test_size=0.10, random_state=42)\nbatches = gen.flow(X_train, y_train, batch_size=64)\nval_batches=gen.flow(X_val, y_val, batch_size=64)",
      "execution_count": null,
      "outputs": []
    },
    {
      "metadata": {
        "_uuid": "026e079824ecb53f2330fa0ff6c1f4896c535103",
        "_cell_guid": "20e08e2a-a394-bb70-69f1-be0fdab4f9ab",
        "trusted": false,
        "collapsed": true
      },
      "cell_type": "code",
      "source": "history=model.fit_generator(batches, batches.n, nb_epoch=1, \n                    validation_data=val_batches, nb_val_samples=val_batches.n)",
      "execution_count": null,
      "outputs": []
    },
    {
      "metadata": {
        "_uuid": "1862396a5dfc37e29be5ef6e63bd53607e3e1c0c",
        "_cell_guid": "9f344366-c372-0b04-b7e0-860778d4bfd3",
        "trusted": false,
        "collapsed": true
      },
      "cell_type": "code",
      "source": "history_dict = history.history\nhistory_dict.keys()",
      "execution_count": null,
      "outputs": []
    },
    {
      "metadata": {
        "_uuid": "9ad34f31f2c733a45b25776cd6786f6dc7600e91",
        "_cell_guid": "df40f5fc-586a-1fae-025e-ee508a8d9b71",
        "trusted": false,
        "collapsed": true
      },
      "cell_type": "code",
      "source": "import matplotlib.pyplot as plt\n%matplotlib inline\nloss_values = history_dict['loss']\nval_loss_values = history_dict['val_loss']\nepochs = range(1, len(loss_values) + 1)\n\n# \"bo\" is for \"blue dot\"\nplt.plot(epochs, loss_values, 'bo')\n# b+ is for \"blue crosses\"\nplt.plot(epochs, val_loss_values, 'b+')\nplt.xlabel('Epochs')\nplt.ylabel('Loss')\n\nplt.show()",
      "execution_count": null,
      "outputs": []
    },
    {
      "metadata": {
        "_uuid": "d9d2e793f8ea1707ec233ee96863aa2e749288a8",
        "_cell_guid": "1ed6b756-00c2-d08c-c596-0ce496ec3d04",
        "trusted": false,
        "collapsed": true
      },
      "cell_type": "code",
      "source": "plt.clf()   # clear figure\nacc_values = history_dict['acc']\nval_acc_values = history_dict['val_acc']\n\nplt.plot(epochs, acc_values, 'bo')\nplt.plot(epochs, val_acc_values, 'b+')\nplt.xlabel('Epochs')\nplt.ylabel('Accuracy')\n\nplt.show()",
      "execution_count": null,
      "outputs": []
    },
    {
      "metadata": {
        "_uuid": "9f3f10028aabc9620ac8b0f9d44f5dcecc9985db",
        "_cell_guid": "e9c49f42-26af-73dc-9061-90c50c06f16e",
        "trusted": false,
        "collapsed": true
      },
      "cell_type": "code",
      "source": "model.optimizer.lr=0.01\ngen = image.ImageDataGenerator()\nbatches = gen.flow(X_train, y_train, batch_size=64)\nhistory=model.fit_generator(batches, batches.n, nb_epoch=1)",
      "execution_count": null,
      "outputs": []
    },
    {
      "metadata": {
        "_uuid": "21a69f8f6ece58107f5ddf92d73f6c51dbea910e",
        "_cell_guid": "c2841d54-f3dd-1ee8-a30d-4457dec0a67a",
        "trusted": false,
        "collapsed": true
      },
      "cell_type": "code",
      "source": "predictions = model.predict_classes(X_test, verbose=0)\n\nsubmissions=pd.DataFrame({\"ImageId\": list(range(1,len(predictions)+1)),\n                         \"Label\": predictions})\nsubmissions.to_csv(\"DR.csv\", index=False, header=True)",
      "execution_count": null,
      "outputs": []
    },
    {
      "metadata": {
        "_uuid": "548dd78765f6550c6e791e9780fc0642162d4383",
        "_cell_guid": "d74ac4ce-9fd5-f8d7-fa1c-b6b64b25e882"
      },
      "cell_type": "markdown",
      "source": "More to come . Please upvote if you find it useful."
    },
    {
      "metadata": {
        "_uuid": "0c2406d8b2372d93e94d0d1e623cf79005f57cb6",
        "_cell_guid": "0e6213b0-fc56-658d-46e3-4a5dcb7148ce"
      },
      "cell_type": "markdown",
      "source": "You can increase number of epochs on your local machine to get better results."
    }
  ],
  "metadata": {
    "_change_revision": 0,
    "_is_fork": false,
    "language_info": {
      "name": "python",
      "version": "3.6.4",
      "mimetype": "text/x-python",
      "codemirror_mode": {
        "name": "ipython",
        "version": 3
      },
      "pygments_lexer": "ipython3",
      "nbconvert_exporter": "python",
      "file_extension": ".py"
    },
    "kernelspec": {
      "display_name": "Python 3",
      "language": "python",
      "name": "python3"
    }
  },
  "nbformat": 4,
  "nbformat_minor": 1
}